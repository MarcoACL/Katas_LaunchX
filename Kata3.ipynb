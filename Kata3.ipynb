{
 "cells": [
  {
   "cell_type": "markdown",
   "metadata": {},
   "source": [
    "Kata 3\n",
    "ejercicio1"
   ]
  },
  {
   "cell_type": "code",
   "execution_count": 6,
   "metadata": {},
   "outputs": [
    {
     "name": "stdout",
     "output_type": "stream",
     "text": [
      "¡Advertencia! El asteroide se acerca muy rápido a la tierra\n"
     ]
    }
   ],
   "source": [
    "a = 49\n",
    "if a >= 25:\n",
    "    print( \"¡Advertencia! El asteroide se acerca muy rápido a la tierra\")\n",
    "else:\n",
    "    print(\"El asteroide no respresenta ningún peligro sognificativo\")"
   ]
  },
  {
   "cell_type": "markdown",
   "metadata": {},
   "source": [
    "Ejercicio 2"
   ]
  },
  {
   "cell_type": "code",
   "execution_count": 24,
   "metadata": {},
   "outputs": [
    {
     "name": "stdout",
     "output_type": "stream",
     "text": [
      "No se formó ningun rayo de luz \n"
     ]
    }
   ],
   "source": [
    "As = 20\n",
    "astierra = 19\n",
    "if astierra >= 20:\n",
    "    print(\"El asteroide SI forma un rayo de luz que se puede ver desde la tierra\")\n",
    "elif astierra == 20:\n",
    "    print(\" El asteroide SI forma un rayo de luz que se puede ver desde la tierra\")\n",
    "else:\n",
    "    print(\"No se formó ningun rayo de luz \")"
   ]
  },
  {
   "cell_type": "markdown",
   "metadata": {},
   "source": [
    "Ejercicio 3"
   ]
  },
  {
   "cell_type": "code",
   "execution_count": 40,
   "metadata": {},
   "outputs": [
    {
     "name": "stdout",
     "output_type": "stream",
     "text": [
      "No hay ningún peligro\n",
      "y no  se produce ningún rayo de luz\n"
     ]
    }
   ],
   "source": [
    "velocidad= 2\n",
    "tamaño= 80\n",
    "if velocidad > 25 and tamaño >25:\n",
    "    print(\"¡Advertencia! El asteroide ocasionara mucho daño\")  \n",
    "elif tamaño <25:\n",
    "    print(\"El Asteroide no representará ningún peligro\")\n",
    "else:\n",
    "    print(\"No hay ningún peligro\")\n",
    "\n",
    "if velocidad >= 20:\n",
    "    print(\"y SI forma un rayo de luz que se puede ver desde la tierra \")\n",
    "else:\n",
    "    print(\"y no  se produce ningún rayo de luz\")\n"
   ]
  }
 ],
 "metadata": {
  "interpreter": {
   "hash": "4eaf1be304415beee96765ae99c3f893cc8312c7f1196698e6029668e9aeb3e5"
  },
  "kernelspec": {
   "display_name": "Python 3.9.6 64-bit",
   "language": "python",
   "name": "python3"
  },
  "language_info": {
   "codemirror_mode": {
    "name": "ipython",
    "version": 3
   },
   "file_extension": ".py",
   "mimetype": "text/x-python",
   "name": "python",
   "nbconvert_exporter": "python",
   "pygments_lexer": "ipython3",
   "version": "3.9.6"
  },
  "orig_nbformat": 4
 },
 "nbformat": 4,
 "nbformat_minor": 2
}
