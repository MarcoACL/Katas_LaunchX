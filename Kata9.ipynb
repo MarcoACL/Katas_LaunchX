{
 "cells": [
  {
   "cell_type": "markdown",
   "metadata": {},
   "source": [
    "kata 9 \n",
    "ejercicio 1"
   ]
  },
  {
   "cell_type": "code",
   "execution_count": 1,
   "metadata": {},
   "outputs": [],
   "source": [
    "def reporte(tanque_1, tanque_2, tanque_3):\n",
    "    total_average = (tanque_1 + tanque_2 + tanque_3) / 3\n",
    "    return f\"\"\"Reporte de Gasolina:\n",
    "    Promedio de todos los tanques: {total_average}%\n",
    "    Tanque 1: {tanque_1}%\n",
    "    Tanque 2: {tanque_2}%\n",
    "    Tanque 3: {tanque_3}% \n",
    "    \"\"\""
   ]
  },
  {
   "cell_type": "code",
   "execution_count": 2,
   "metadata": {},
   "outputs": [
    {
     "name": "stdout",
     "output_type": "stream",
     "text": [
      "Reporte de Gasolina:\n",
      "    Promedio de todos los tanques: 60.0%\n",
      "    Tanque 1: 60%\n",
      "    Tanque 2: 50%\n",
      "    Tanque 3: 70% \n",
      "    \n"
     ]
    }
   ],
   "source": [
    "print(reporte(60, 50, 70))"
   ]
  },
  {
   "cell_type": "code",
   "execution_count": 3,
   "metadata": {},
   "outputs": [
    {
     "data": {
      "text/plain": [
       "55.0"
      ]
     },
     "execution_count": 3,
     "metadata": {},
     "output_type": "execute_result"
    }
   ],
   "source": [
    "def promedio(values):\n",
    "    total = sum(values)\n",
    "    no_de_elementos= len(values)\n",
    "    return total / no_de_elementos\n",
    "\n",
    "promedio([20, 60, 85])"
   ]
  },
  {
   "cell_type": "code",
   "execution_count": 4,
   "metadata": {},
   "outputs": [
    {
     "name": "stdout",
     "output_type": "stream",
     "text": [
      "Reporte de Gasolina:\n",
      "    Promedio de todos los tanques: 63.333333333333336%\n",
      "    Tanque 1: 40%\n",
      "    Tanque 2: 50%\n",
      "    Tanque 3: 100% \n",
      "\n",
      "    \n"
     ]
    }
   ],
   "source": [
    "def reporte(tanque_1, tanque_2, tanque_3):\n",
    "    \n",
    "    return f\"\"\"Reporte de Gasolina:\n",
    "    Promedio de todos los tanques: {promedio([tanque_1, tanque_2, tanque_3])}%\n",
    "    Tanque 1: {tanque_1}%\n",
    "    Tanque 2: {tanque_2}%\n",
    "    Tanque 3: {tanque_3}% \n",
    "\n",
    "    \"\"\"\n",
    "\n",
    "print(reporte(40, 50, 100))"
   ]
  },
  {
   "cell_type": "markdown",
   "metadata": {},
   "source": [
    "Ejercicio 2 "
   ]
  },
  {
   "cell_type": "code",
   "execution_count": 6,
   "metadata": {},
   "outputs": [
    {
     "name": "stdout",
     "output_type": "stream",
     "text": [
      "\n",
      "    Misión para Marte\n",
      "    Tiempo de viaje total: 30 minutos\n",
      "    Gasolina restante: 90000 galones\n",
      "\n"
     ]
    }
   ],
   "source": [
    "# Función con un informe preciso de la misión. \n",
    "# Considera hora de prelanzamiento, tiempo de vuelo, destino, tanque externo\n",
    "# y tanque interno\n",
    "def reporte_mision(prelanzamiento,tiempo_vuelo, destino, tanque_externo, tanque_interno):\n",
    "    return f\"\"\"\n",
    "    Misión para {destino}\n",
    "    Tiempo de viaje total: {prelanzamiento + tiempo_vuelo} minutos\n",
    "    Gasolina restante: {tanque_externo + tanque_interno} galones\n",
    "\"\"\"\n",
    "print(reporte_mision(10, 20, \"Marte\", 40000, 50000))"
   ]
  },
  {
   "cell_type": "code",
   "execution_count": 8,
   "metadata": {},
   "outputs": [
    {
     "name": "stdout",
     "output_type": "stream",
     "text": [
      "\n",
      "    Mission a Marte\n",
      "    tiempo total de viaje: 90 minutos\n",
      "    Gasolina restante: 900000\n",
      "    \n"
     ]
    }
   ],
   "source": [
    "def mission_report(destino, *minutos, **gasolina):\n",
    "    return f\"\"\"\n",
    "    Mission a {destino}\n",
    "    Tiempo total de viaje: {sum(minutos)} minutos\n",
    "    Gasolina restante: {sum(gasolina.values())}\n",
    "    \"\"\"\n",
    "\n",
    "print(mission_report(\"Marte\", 10, 10, 70, main=800000, external=100000))"
   ]
  },
  {
   "cell_type": "code",
   "execution_count": 12,
   "metadata": {},
   "outputs": [
    {
     "name": "stdout",
     "output_type": "stream",
     "text": [
      "\n",
      "    Mission to Jupiter\n",
      "    Total travel time: 95 minutes\n",
      "    Total fuel left: 500000\n",
      "     tanque principal --> 300000 gallones restantes\n",
      " tanque externo --> 200000 gallones restantes\n",
      "\n"
     ]
    }
   ],
   "source": [
    "def reporte_mision(destino, *minutos, **gasolina):\n",
    "    reporte = f\"\"\"\n",
    "    Mission to {destino}\n",
    "    Total travel time: {sum(minutos)} minutes\n",
    "    Total fuel left: {sum(gasolina.values())}\n",
    "    \"\"\"\n",
    "    for tank_name, gallons in gasolina.items():\n",
    "        reporte += f\" tanque {tank_name} --> {gallons} gallones restantes\\n\"\n",
    "    return reporte\n",
    "\n",
    "print(reporte_mision(\"Jupiter\", 10, 15, 70, principal=300000, externo=200000))\n"
   ]
  }
 ],
 "metadata": {
  "interpreter": {
   "hash": "4eaf1be304415beee96765ae99c3f893cc8312c7f1196698e6029668e9aeb3e5"
  },
  "kernelspec": {
   "display_name": "Python 3.9.6 64-bit",
   "language": "python",
   "name": "python3"
  },
  "language_info": {
   "codemirror_mode": {
    "name": "ipython",
    "version": 3
   },
   "file_extension": ".py",
   "mimetype": "text/x-python",
   "name": "python",
   "nbconvert_exporter": "python",
   "pygments_lexer": "ipython3",
   "version": "3.9.6"
  },
  "orig_nbformat": 4
 },
 "nbformat": 4,
 "nbformat_minor": 2
}
